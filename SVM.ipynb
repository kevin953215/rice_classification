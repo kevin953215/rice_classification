{
 "cells": [
  {
   "cell_type": "code",
   "execution_count": 1,
   "id": "configured-spotlight",
   "metadata": {},
   "outputs": [],
   "source": [
    "from sklearn import svm\n",
    "from PIL import Image\n",
    "import numpy as np\n",
    "from matplotlib import pyplot as plt\n",
    "import cv2\n",
    "import os\n",
    "from sklearn.utils import shuffle\n",
    "import random"
   ]
  },
  {
   "cell_type": "code",
   "execution_count": 2,
   "id": "modified-spine",
   "metadata": {},
   "outputs": [],
   "source": [
    "i_x=[]\n",
    "for info in os.listdir(r'C:\\Users\\User\\Desktop\\rice_data\\my_train'):\n",
    "    domain = os.path.abspath(r'C:\\Users\\User\\Desktop\\rice_data\\my_train')\n",
    "    info = os.path.join(domain,info)\n",
    "    img = cv2.imread(info)\n",
    "    i_x.append(img)"
   ]
  },
  {
   "cell_type": "code",
   "execution_count": 3,
   "id": "enormous-steering",
   "metadata": {},
   "outputs": [],
   "source": [
    "winSize = (16,16)\n",
    "blockSize = (16,16)\n",
    "blockStride = (1,1)\n",
    "cellSize = (8,8)\n",
    "padding = (1,1)\n",
    "winStride = (1,1)\n",
    "nbins = 9\n",
    "hog = cv2.HOGDescriptor(winSize,blockSize,blockStride,cellSize,nbins)"
   ]
  },
  {
   "cell_type": "code",
   "execution_count": 4,
   "id": "provincial-nylon",
   "metadata": {},
   "outputs": [],
   "source": [
    "x=[]\n",
    "for i in i_x:\n",
    "    tp=hog.compute(i, winStride, padding).reshape((-1,))\n",
    "    x.append(tp)"
   ]
  },
  {
   "cell_type": "code",
   "execution_count": 5,
   "id": "applicable-horror",
   "metadata": {},
   "outputs": [],
   "source": [
    "x=np.array(x)"
   ]
  },
  {
   "cell_type": "code",
   "execution_count": 6,
   "id": "quick-hierarchy",
   "metadata": {},
   "outputs": [],
   "source": [
    "y=np.array([])\n",
    "for i in range(250):\n",
    "    y=np.append(y,0)\n",
    "for i in range(250):\n",
    "    y=np.append(y,1)"
   ]
  },
  {
   "cell_type": "code",
   "execution_count": 7,
   "id": "considered-bullet",
   "metadata": {},
   "outputs": [],
   "source": [
    "x,y=shuffle(x,y)"
   ]
  },
  {
   "cell_type": "code",
   "execution_count": 8,
   "id": "executed-treasure",
   "metadata": {},
   "outputs": [],
   "source": [
    "x_test=x[350:]\n",
    "x_train=x[:350]\n",
    "y_test=y[350:]\n",
    "y_train=y[:350]"
   ]
  },
  {
   "cell_type": "code",
   "execution_count": 9,
   "id": "incomplete-witness",
   "metadata": {},
   "outputs": [],
   "source": [
    "clf = svm.SVC()"
   ]
  },
  {
   "cell_type": "code",
   "execution_count": 10,
   "id": "referenced-tobago",
   "metadata": {},
   "outputs": [
    {
     "data": {
      "text/plain": [
       "(500, 324)"
      ]
     },
     "execution_count": 10,
     "metadata": {},
     "output_type": "execute_result"
    }
   ],
   "source": [
    "x.shape"
   ]
  },
  {
   "cell_type": "code",
   "execution_count": 11,
   "id": "equivalent-seafood",
   "metadata": {},
   "outputs": [
    {
     "data": {
      "text/plain": [
       "(500,)"
      ]
     },
     "execution_count": 11,
     "metadata": {},
     "output_type": "execute_result"
    }
   ],
   "source": [
    "y.shape"
   ]
  },
  {
   "cell_type": "code",
   "execution_count": 12,
   "id": "mounted-meeting",
   "metadata": {},
   "outputs": [],
   "source": [
    "from sklearn.model_selection import RepeatedStratifiedKFold\n",
    "from sklearn.metrics import precision_score\n",
    "from sklearn.metrics import accuracy_score\n",
    "from sklearn.metrics import recall_score\n",
    "r_a=0\n",
    "r_p=0\n",
    "r_r=0\n",
    "rskf = RepeatedStratifiedKFold(n_splits=10, n_repeats=1,random_state=36851234)\n",
    "for train_index, test_index in rskf.split(x, y):\n",
    "    X_train, X_test = x[train_index], x[test_index]\n",
    "    y_train, y_test = y[train_index], y[test_index]\n",
    "    clf.fit(X_train,y_train)\n",
    "    yp=clf.predict(X_test)\n",
    "    r_a+=accuracy_score(y_test,yp)\n",
    "    r_p+=precision_score(y_test,yp,average=None)\n",
    "    r_r+=recall_score(y_test,yp,average=None)\n",
    "r_a/=10\n",
    "r_p/=10\n",
    "r_r/=10"
   ]
  },
  {
   "cell_type": "code",
   "execution_count": 13,
   "id": "handed-watson",
   "metadata": {},
   "outputs": [
    {
     "name": "stdout",
     "output_type": "stream",
     "text": [
      "Accuracy:0.884000\n",
      "-----------------------------------------------\n",
      "正precision: 0.887197 負precision:0.885107\n",
      "-----------------------------------------------\n",
      "正recall: 0.884000 負recall:0.884000\n"
     ]
    }
   ],
   "source": [
    "print(\"Accuracy:%f\"%r_a)\n",
    "print(\"-----------------------------------------------\")\n",
    "print(\"正precision: %f 負precision:%f\"%(r_p[0],r_p[1]))\n",
    "print(\"-----------------------------------------------\")\n",
    "print(\"正recall: %f 負recall:%f\"%(r_r[0],r_r[1]))"
   ]
  }
 ],
 "metadata": {
  "kernelspec": {
   "display_name": "tf24",
   "language": "python",
   "name": "tf24"
  },
  "language_info": {
   "codemirror_mode": {
    "name": "ipython",
    "version": 3
   },
   "file_extension": ".py",
   "mimetype": "text/x-python",
   "name": "python",
   "nbconvert_exporter": "python",
   "pygments_lexer": "ipython3",
   "version": "3.8.5"
  }
 },
 "nbformat": 4,
 "nbformat_minor": 5
}
